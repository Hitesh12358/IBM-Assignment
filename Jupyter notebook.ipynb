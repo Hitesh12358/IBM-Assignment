{
 "cells": [
  {
   "cell_type": "markdown",
   "id": "342871cb-3c00-4ecd-9be8-1e4d169b4966",
   "metadata": {},
   "source": [
    "<h1>My Jupyter Notebook on IBM Watson Studio</h1>"
   ]
  },
  {
   "cell_type": "markdown",
   "id": "877c1c6a-f905-46c7-80c7-faf63fbed4f0",
   "metadata": {},
   "source": [
    " **Hitesh Kathiriya**<br>\n",
    " Data Scientist"
   ]
  },
  {
   "cell_type": "markdown",
   "id": "4218e2f1-e863-4105-91c4-bc4fdcee3c58",
   "metadata": {},
   "source": [
    "*I am interested in data science because I love to solve problem using Programming and Mathematics*"
   ]
  },
  {
   "cell_type": "markdown",
   "id": "0551c548-35e9-49a5-8208-adb6fa9304e2",
   "metadata": {},
   "source": [
    "<h3> Following code returns area of rectangle</h3>"
   ]
  },
  {
   "cell_type": "code",
   "execution_count": 7,
   "id": "f2b9a114-09eb-48e9-aa92-5893b1506622",
   "metadata": {},
   "outputs": [
    {
     "data": {
      "text/plain": [
       "20"
      ]
     },
     "execution_count": 7,
     "metadata": {},
     "output_type": "execute_result"
    }
   ],
   "source": [
    "def rect_area(length, width):\n",
    "    return length*width\n",
    "rect_area(5,4)"
   ]
  },
  {
   "cell_type": "markdown",
   "id": "d5a23962-4c8d-4b5b-ac5d-07ff6bb2a409",
   "metadata": {},
   "source": [
    "* one\n",
    "* two\n",
    "* three\n",
    "***\n",
    "1. Red\n",
    "2. Blue\n",
    "3. White\n",
    "\n",
    "~~~python\n",
    "for i in range(10):\n",
    "   print(i)\n",
    "~~~\n",
    "\n",
    "Name |Age |Sex\n",
    "-----|-----|----- \n",
    "Meryl|20|TG\n",
    "Dakota|Da|Data3\n",
    "Data1|Data2|Data3\n",
    "Data1|Data2|Data3\n",
    "\n",
    "\n",
    "__[Thank You](https://www.google.com/search?q=thank+you+images&newwindow=1&rlz=1C1CHZN_enGB952GB952&sxsrf=AJOqlzXjzZGzRlu78ZCPK9JLIWIpvj-Gug:1673997651797&source=lnms&tbm=isch&sa=X&ved=2ahUKEwjplo-b38_8AhX7g_0HHfMlDwMQ_AUoAXoECAEQAw&biw=1280&bih=569&dpr=1.5)__"
   ]
  }
 ],
 "metadata": {
  "kernelspec": {
   "display_name": "Python",
   "language": "python",
   "name": "conda-env-python-py"
  },
  "language_info": {
   "codemirror_mode": {
    "name": "ipython",
    "version": 3
   },
   "file_extension": ".py",
   "mimetype": "text/x-python",
   "name": "python",
   "nbconvert_exporter": "python",
   "pygments_lexer": "ipython3",
   "version": "3.7.12"
  }
 },
 "nbformat": 4,
 "nbformat_minor": 5
}
